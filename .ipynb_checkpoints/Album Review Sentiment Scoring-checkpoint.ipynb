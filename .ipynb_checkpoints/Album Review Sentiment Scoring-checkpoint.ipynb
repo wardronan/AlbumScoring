{
 "cells": [
  {
   "cell_type": "code",
   "execution_count": 1,
   "metadata": {},
   "outputs": [],
   "source": [
    "import pandas as pd\n",
    "import csv\n",
    "from sklearn.linear_model import LogisticRegression\n",
    "from sklearn.model_selection import train_test_split\n",
    "from sklearn.metrics import confusion_matrix\n",
    "from sklearn.feature_extraction.text import CountVectorizer, TfidfVectorizer, ENGLISH_STOP_WORDS\n",
    "from nltk.stem import PorterStemmer\n",
    "import matplotlib.pyplot as plt"
   ]
  },
  {
   "cell_type": "code",
   "execution_count": 2,
   "metadata": {
    "scrolled": true
   },
   "outputs": [
    {
     "data": {
      "text/html": [
       "<div>\n",
       "<style scoped>\n",
       "    .dataframe tbody tr th:only-of-type {\n",
       "        vertical-align: middle;\n",
       "    }\n",
       "\n",
       "    .dataframe tbody tr th {\n",
       "        vertical-align: top;\n",
       "    }\n",
       "\n",
       "    .dataframe thead th {\n",
       "        text-align: right;\n",
       "    }\n",
       "</style>\n",
       "<table border=\"1\" class=\"dataframe\">\n",
       "  <thead>\n",
       "    <tr style=\"text-align: right;\">\n",
       "      <th></th>\n",
       "      <th>artist</th>\n",
       "      <th>album</th>\n",
       "      <th>reviewer</th>\n",
       "      <th>score</th>\n",
       "      <th>review</th>\n",
       "      <th>category</th>\n",
       "    </tr>\n",
       "  </thead>\n",
       "  <tbody>\n",
       "    <tr>\n",
       "      <td>0</td>\n",
       "      <td>Nick Cave &amp; the Bad Seeds</td>\n",
       "      <td>Ghosteen</td>\n",
       "      <td>Record Collector</td>\n",
       "      <td>100</td>\n",
       "      <td>It can only tower when it comes to naming this...</td>\n",
       "      <td>positive</td>\n",
       "    </tr>\n",
       "    <tr>\n",
       "      <td>1</td>\n",
       "      <td>Nick Cave &amp; the Bad Seeds</td>\n",
       "      <td>Ghosteen</td>\n",
       "      <td>Mojo</td>\n",
       "      <td>100</td>\n",
       "      <td>It still vibrates with Warren Ellis's ominous,...</td>\n",
       "      <td>positive</td>\n",
       "    </tr>\n",
       "    <tr>\n",
       "      <td>2</td>\n",
       "      <td>Nick Cave &amp; the Bad Seeds</td>\n",
       "      <td>Ghosteen</td>\n",
       "      <td>The A.V. Club</td>\n",
       "      <td>100</td>\n",
       "      <td>He sounds simultaneously alone at the edge of ...</td>\n",
       "      <td>positive</td>\n",
       "    </tr>\n",
       "    <tr>\n",
       "      <td>3</td>\n",
       "      <td>Nick Cave &amp; the Bad Seeds</td>\n",
       "      <td>Ghosteen</td>\n",
       "      <td>musicOMH.com</td>\n",
       "      <td>100</td>\n",
       "      <td>Yes, it can be painful, but theres a beautifu...</td>\n",
       "      <td>positive</td>\n",
       "    </tr>\n",
       "    <tr>\n",
       "      <td>4</td>\n",
       "      <td>Nick Cave &amp; the Bad Seeds</td>\n",
       "      <td>Ghosteen</td>\n",
       "      <td>Classic Rock Magazine</td>\n",
       "      <td>100</td>\n",
       "      <td>Ghosteen is an album which raises the bar in t...</td>\n",
       "      <td>positive</td>\n",
       "    </tr>\n",
       "  </tbody>\n",
       "</table>\n",
       "</div>"
      ],
      "text/plain": [
       "                      artist     album               reviewer  score  \\\n",
       "0  Nick Cave & the Bad Seeds  Ghosteen       Record Collector    100   \n",
       "1  Nick Cave & the Bad Seeds  Ghosteen                   Mojo    100   \n",
       "2  Nick Cave & the Bad Seeds  Ghosteen          The A.V. Club    100   \n",
       "3  Nick Cave & the Bad Seeds  Ghosteen           musicOMH.com    100   \n",
       "4  Nick Cave & the Bad Seeds  Ghosteen  Classic Rock Magazine    100   \n",
       "\n",
       "                                              review  category  \n",
       "0  It can only tower when it comes to naming this...  positive  \n",
       "1  It still vibrates with Warren Ellis's ominous,...  positive  \n",
       "2  He sounds simultaneously alone at the edge of ...  positive  \n",
       "3  Yes, it can be painful, but theres a beautifu...  positive  \n",
       "4  Ghosteen is an album which raises the bar in t...  positive  "
      ]
     },
     "execution_count": 2,
     "metadata": {},
     "output_type": "execute_result"
    }
   ],
   "source": [
    "reviews = pd.read_csv('C:\\\\Users\\\\eeron\\\\Python\\\\all_critic_reviews_2019.csv', encoding = \"ISO-8859-1\")\n",
    "reviews['category'] = ['positive' if s> 60 else 'neutral' if s<=60 and s>=40 else 'negative' for s in reviews.score]\n",
    "reviews.head() #>60 is good, 60-40 is medium, <40 is bad"
   ]
  },
  {
   "cell_type": "code",
   "execution_count": 3,
   "metadata": {},
   "outputs": [],
   "source": [
    "cvect = CountVectorizer(max_features = 1000, stop_words = ENGLISH_STOP_WORDS)\n",
    "cvect.fit(reviews.review)\n",
    "X_bow = cvect.transform(reviews.review)"
   ]
  },
  {
   "cell_type": "code",
   "execution_count": 4,
   "metadata": {},
   "outputs": [
    {
     "data": {
      "text/html": [
       "<div>\n",
       "<style scoped>\n",
       "    .dataframe tbody tr th:only-of-type {\n",
       "        vertical-align: middle;\n",
       "    }\n",
       "\n",
       "    .dataframe tbody tr th {\n",
       "        vertical-align: top;\n",
       "    }\n",
       "\n",
       "    .dataframe thead th {\n",
       "        text-align: right;\n",
       "    }\n",
       "</style>\n",
       "<table border=\"1\" class=\"dataframe\">\n",
       "  <thead>\n",
       "    <tr style=\"text-align: right;\">\n",
       "      <th></th>\n",
       "      <th>10</th>\n",
       "      <th>106</th>\n",
       "      <th>108</th>\n",
       "      <th>11</th>\n",
       "      <th>110</th>\n",
       "      <th>111</th>\n",
       "      <th>112</th>\n",
       "      <th>113</th>\n",
       "      <th>114</th>\n",
       "      <th>115</th>\n",
       "      <th>...</th>\n",
       "      <th>worth</th>\n",
       "      <th>worthy</th>\n",
       "      <th>writing</th>\n",
       "      <th>written</th>\n",
       "      <th>wrong</th>\n",
       "      <th>year</th>\n",
       "      <th>years</th>\n",
       "      <th>yes</th>\n",
       "      <th>young</th>\n",
       "      <th>youth</th>\n",
       "    </tr>\n",
       "  </thead>\n",
       "  <tbody>\n",
       "    <tr>\n",
       "      <td>0</td>\n",
       "      <td>0</td>\n",
       "      <td>0</td>\n",
       "      <td>0</td>\n",
       "      <td>0</td>\n",
       "      <td>0</td>\n",
       "      <td>0</td>\n",
       "      <td>0</td>\n",
       "      <td>0</td>\n",
       "      <td>0</td>\n",
       "      <td>0</td>\n",
       "      <td>...</td>\n",
       "      <td>0</td>\n",
       "      <td>0</td>\n",
       "      <td>0</td>\n",
       "      <td>0</td>\n",
       "      <td>0</td>\n",
       "      <td>0</td>\n",
       "      <td>1</td>\n",
       "      <td>0</td>\n",
       "      <td>0</td>\n",
       "      <td>0</td>\n",
       "    </tr>\n",
       "    <tr>\n",
       "      <td>1</td>\n",
       "      <td>0</td>\n",
       "      <td>0</td>\n",
       "      <td>0</td>\n",
       "      <td>0</td>\n",
       "      <td>0</td>\n",
       "      <td>0</td>\n",
       "      <td>0</td>\n",
       "      <td>0</td>\n",
       "      <td>0</td>\n",
       "      <td>0</td>\n",
       "      <td>...</td>\n",
       "      <td>0</td>\n",
       "      <td>0</td>\n",
       "      <td>0</td>\n",
       "      <td>0</td>\n",
       "      <td>0</td>\n",
       "      <td>0</td>\n",
       "      <td>0</td>\n",
       "      <td>0</td>\n",
       "      <td>0</td>\n",
       "      <td>0</td>\n",
       "    </tr>\n",
       "    <tr>\n",
       "      <td>2</td>\n",
       "      <td>0</td>\n",
       "      <td>0</td>\n",
       "      <td>0</td>\n",
       "      <td>0</td>\n",
       "      <td>0</td>\n",
       "      <td>0</td>\n",
       "      <td>0</td>\n",
       "      <td>0</td>\n",
       "      <td>0</td>\n",
       "      <td>0</td>\n",
       "      <td>...</td>\n",
       "      <td>0</td>\n",
       "      <td>0</td>\n",
       "      <td>0</td>\n",
       "      <td>0</td>\n",
       "      <td>0</td>\n",
       "      <td>0</td>\n",
       "      <td>0</td>\n",
       "      <td>0</td>\n",
       "      <td>0</td>\n",
       "      <td>0</td>\n",
       "    </tr>\n",
       "    <tr>\n",
       "      <td>3</td>\n",
       "      <td>0</td>\n",
       "      <td>0</td>\n",
       "      <td>0</td>\n",
       "      <td>0</td>\n",
       "      <td>0</td>\n",
       "      <td>0</td>\n",
       "      <td>0</td>\n",
       "      <td>0</td>\n",
       "      <td>0</td>\n",
       "      <td>0</td>\n",
       "      <td>...</td>\n",
       "      <td>0</td>\n",
       "      <td>0</td>\n",
       "      <td>0</td>\n",
       "      <td>0</td>\n",
       "      <td>0</td>\n",
       "      <td>0</td>\n",
       "      <td>0</td>\n",
       "      <td>1</td>\n",
       "      <td>0</td>\n",
       "      <td>0</td>\n",
       "    </tr>\n",
       "    <tr>\n",
       "      <td>4</td>\n",
       "      <td>0</td>\n",
       "      <td>0</td>\n",
       "      <td>0</td>\n",
       "      <td>0</td>\n",
       "      <td>0</td>\n",
       "      <td>0</td>\n",
       "      <td>0</td>\n",
       "      <td>0</td>\n",
       "      <td>0</td>\n",
       "      <td>0</td>\n",
       "      <td>...</td>\n",
       "      <td>0</td>\n",
       "      <td>0</td>\n",
       "      <td>0</td>\n",
       "      <td>0</td>\n",
       "      <td>0</td>\n",
       "      <td>0</td>\n",
       "      <td>0</td>\n",
       "      <td>0</td>\n",
       "      <td>0</td>\n",
       "      <td>0</td>\n",
       "    </tr>\n",
       "  </tbody>\n",
       "</table>\n",
       "<p>5 rows × 1000 columns</p>\n",
       "</div>"
      ],
      "text/plain": [
       "   10  106  108  11  110  111  112  113  114  115  ...  worth  worthy  \\\n",
       "0   0    0    0   0    0    0    0    0    0    0  ...      0       0   \n",
       "1   0    0    0   0    0    0    0    0    0    0  ...      0       0   \n",
       "2   0    0    0   0    0    0    0    0    0    0  ...      0       0   \n",
       "3   0    0    0   0    0    0    0    0    0    0  ...      0       0   \n",
       "4   0    0    0   0    0    0    0    0    0    0  ...      0       0   \n",
       "\n",
       "   writing  written  wrong  year  years  yes  young  youth  \n",
       "0        0        0      0     0      1    0      0      0  \n",
       "1        0        0      0     0      0    0      0      0  \n",
       "2        0        0      0     0      0    0      0      0  \n",
       "3        0        0      0     0      0    1      0      0  \n",
       "4        0        0      0     0      0    0      0      0  \n",
       "\n",
       "[5 rows x 1000 columns]"
      ]
     },
     "execution_count": 4,
     "metadata": {},
     "output_type": "execute_result"
    }
   ],
   "source": [
    "X_bow_df = pd.DataFrame(X_bow.toarray(), columns = cvect.get_feature_names())\n",
    "X_bow_df.head()"
   ]
  },
  {
   "cell_type": "code",
   "execution_count": 5,
   "metadata": {},
   "outputs": [
    {
     "data": {
      "text/plain": [
       "album     1723\n",
       "2019      1149\n",
       "like       927\n",
       "record     723\n",
       "songs      684\n",
       "music      565\n",
       "band       493\n",
       "sound      481\n",
       "new        464\n",
       "pop        444\n",
       "dtype: int64"
      ]
     },
     "execution_count": 5,
     "metadata": {},
     "output_type": "execute_result"
    }
   ],
   "source": [
    "X_bow_df.sum().nlargest(10) #we can consider adding some of these generic words to our stopword using ENGLISH_STOP_WORDS.union([list of words])"
   ]
  },
  {
   "cell_type": "code",
   "execution_count": 6,
   "metadata": {},
   "outputs": [],
   "source": [
    "y = reviews.category\n",
    "Xb_train, Xb_test, yb_train, yb_test = train_test_split(X_bow_df, y, test_size = 0.2, random_state = 7)"
   ]
  },
  {
   "cell_type": "code",
   "execution_count": 7,
   "metadata": {},
   "outputs": [
    {
     "name": "stderr",
     "output_type": "stream",
     "text": [
      "C:\\Users\\eeron\\Anaconda3\\lib\\site-packages\\sklearn\\linear_model\\logistic.py:432: FutureWarning: Default solver will be changed to 'lbfgs' in 0.22. Specify a solver to silence this warning.\n",
      "  FutureWarning)\n",
      "C:\\Users\\eeron\\Anaconda3\\lib\\site-packages\\sklearn\\linear_model\\logistic.py:469: FutureWarning: Default multi_class will be changed to 'auto' in 0.22. Specify the multi_class option to silence this warning.\n",
      "  \"this warning.\", FutureWarning)\n"
     ]
    }
   ],
   "source": [
    "bow_lr = LogisticRegression().fit(Xb_train, yb_train)\n",
    "yb_predict = bow_lr.predict(Xb_test)"
   ]
  },
  {
   "cell_type": "code",
   "execution_count": 8,
   "metadata": {},
   "outputs": [
    {
     "name": "stdout",
     "output_type": "stream",
     "text": [
      "Accuracy on train set:  0.8758409785932721\n",
      "Accuracy on test set:  0.7995110024449877\n",
      "Confusion matrix: \n",
      " [[0.         0.000815   0.00162999]\n",
      " [0.         0.02689487 0.15484923]\n",
      " [0.         0.04319478 0.77261614]]\n"
     ]
    }
   ],
   "source": [
    "print('Accuracy on train set: ', bow_lr.score(Xb_train, yb_train))\n",
    "print('Accuracy on test set: ', bow_lr.score(Xb_test, yb_test))\n",
    "print('Confusion matrix: \\n' , confusion_matrix(yb_test, yb_predict)/len(yb_test))"
   ]
  },
  {
   "cell_type": "code",
   "execution_count": 9,
   "metadata": {},
   "outputs": [
    {
     "name": "stdout",
     "output_type": "stream",
     "text": [
      "[[0.77261614 0.04319478 0.        ]\n",
      " [0.15484923 0.02689487 0.        ]\n",
      " [0.00162999 0.000815   0.        ]]\n"
     ]
    },
    {
     "data": {
      "image/png": "[encoded data removed]",
      "text/plain": [
       "<Figure size 432x288 with 2 Axes>"
      ]
     },
     "metadata": {
      "needs_background": "light"
     },
     "output_type": "display_data"
    }
   ],
   "source": [
    "labels = ['positive','neutral','negative']\n",
    "cm = confusion_matrix(yb_test, yb_predict, labels)/len(yb_test)\n",
    "print(cm)\n",
    "fig = plt.figure()\n",
    "ax = fig.add_subplot(111)\n",
    "cax = ax.matshow(cm)\n",
    "plt.title('Confusion Matrix of the Classifier')\n",
    "fig.colorbar(cax)\n",
    "ax.set_xticklabels([''] + labels)\n",
    "ax.set_yticklabels([''] + labels)\n",
    "plt.xlabel('Predicted')\n",
    "plt.ylabel('True')\n",
    "plt.show()"
   ]
  },
  {
   "cell_type": "code",
   "execution_count": 10,
   "metadata": {},
   "outputs": [],
   "source": [
    "tfvect = TfidfVectorizer(max_features = 1000, stop_words = ENGLISH_STOP_WORDS)\n",
    "tfvect.fit(reviews.review)\n",
    "X_tf = tfvect.transform(reviews.review)"
   ]
  },
  {
   "cell_type": "code",
   "execution_count": 11,
   "metadata": {},
   "outputs": [
    {
     "data": {
      "text/html": [
       "<div>\n",
       "<style scoped>\n",
       "    .dataframe tbody tr th:only-of-type {\n",
       "        vertical-align: middle;\n",
       "    }\n",
       "\n",
       "    .dataframe tbody tr th {\n",
       "        vertical-align: top;\n",
       "    }\n",
       "\n",
       "    .dataframe thead th {\n",
       "        text-align: right;\n",
       "    }\n",
       "</style>\n",
       "<table border=\"1\" class=\"dataframe\">\n",
       "  <thead>\n",
       "    <tr style=\"text-align: right;\">\n",
       "      <th></th>\n",
       "      <th>10</th>\n",
       "      <th>106</th>\n",
       "      <th>108</th>\n",
       "      <th>11</th>\n",
       "      <th>110</th>\n",
       "      <th>111</th>\n",
       "      <th>112</th>\n",
       "      <th>113</th>\n",
       "      <th>114</th>\n",
       "      <th>115</th>\n",
       "      <th>...</th>\n",
       "      <th>worth</th>\n",
       "      <th>worthy</th>\n",
       "      <th>writing</th>\n",
       "      <th>written</th>\n",
       "      <th>wrong</th>\n",
       "      <th>year</th>\n",
       "      <th>years</th>\n",
       "      <th>yes</th>\n",
       "      <th>young</th>\n",
       "      <th>youth</th>\n",
       "    </tr>\n",
       "  </thead>\n",
       "  <tbody>\n",
       "    <tr>\n",
       "      <td>0</td>\n",
       "      <td>0.0</td>\n",
       "      <td>0.0</td>\n",
       "      <td>0.0</td>\n",
       "      <td>0.0</td>\n",
       "      <td>0.0</td>\n",
       "      <td>0.0</td>\n",
       "      <td>0.0</td>\n",
       "      <td>0.0</td>\n",
       "      <td>0.0</td>\n",
       "      <td>0.0</td>\n",
       "      <td>...</td>\n",
       "      <td>0.0</td>\n",
       "      <td>0.0</td>\n",
       "      <td>0.0</td>\n",
       "      <td>0.0</td>\n",
       "      <td>0.0</td>\n",
       "      <td>0.0</td>\n",
       "      <td>0.383527</td>\n",
       "      <td>0.000000</td>\n",
       "      <td>0.0</td>\n",
       "      <td>0.0</td>\n",
       "    </tr>\n",
       "    <tr>\n",
       "      <td>1</td>\n",
       "      <td>0.0</td>\n",
       "      <td>0.0</td>\n",
       "      <td>0.0</td>\n",
       "      <td>0.0</td>\n",
       "      <td>0.0</td>\n",
       "      <td>0.0</td>\n",
       "      <td>0.0</td>\n",
       "      <td>0.0</td>\n",
       "      <td>0.0</td>\n",
       "      <td>0.0</td>\n",
       "      <td>...</td>\n",
       "      <td>0.0</td>\n",
       "      <td>0.0</td>\n",
       "      <td>0.0</td>\n",
       "      <td>0.0</td>\n",
       "      <td>0.0</td>\n",
       "      <td>0.0</td>\n",
       "      <td>0.000000</td>\n",
       "      <td>0.000000</td>\n",
       "      <td>0.0</td>\n",
       "      <td>0.0</td>\n",
       "    </tr>\n",
       "    <tr>\n",
       "      <td>2</td>\n",
       "      <td>0.0</td>\n",
       "      <td>0.0</td>\n",
       "      <td>0.0</td>\n",
       "      <td>0.0</td>\n",
       "      <td>0.0</td>\n",
       "      <td>0.0</td>\n",
       "      <td>0.0</td>\n",
       "      <td>0.0</td>\n",
       "      <td>0.0</td>\n",
       "      <td>0.0</td>\n",
       "      <td>...</td>\n",
       "      <td>0.0</td>\n",
       "      <td>0.0</td>\n",
       "      <td>0.0</td>\n",
       "      <td>0.0</td>\n",
       "      <td>0.0</td>\n",
       "      <td>0.0</td>\n",
       "      <td>0.000000</td>\n",
       "      <td>0.000000</td>\n",
       "      <td>0.0</td>\n",
       "      <td>0.0</td>\n",
       "    </tr>\n",
       "    <tr>\n",
       "      <td>3</td>\n",
       "      <td>0.0</td>\n",
       "      <td>0.0</td>\n",
       "      <td>0.0</td>\n",
       "      <td>0.0</td>\n",
       "      <td>0.0</td>\n",
       "      <td>0.0</td>\n",
       "      <td>0.0</td>\n",
       "      <td>0.0</td>\n",
       "      <td>0.0</td>\n",
       "      <td>0.0</td>\n",
       "      <td>...</td>\n",
       "      <td>0.0</td>\n",
       "      <td>0.0</td>\n",
       "      <td>0.0</td>\n",
       "      <td>0.0</td>\n",
       "      <td>0.0</td>\n",
       "      <td>0.0</td>\n",
       "      <td>0.000000</td>\n",
       "      <td>0.371136</td>\n",
       "      <td>0.0</td>\n",
       "      <td>0.0</td>\n",
       "    </tr>\n",
       "    <tr>\n",
       "      <td>4</td>\n",
       "      <td>0.0</td>\n",
       "      <td>0.0</td>\n",
       "      <td>0.0</td>\n",
       "      <td>0.0</td>\n",
       "      <td>0.0</td>\n",
       "      <td>0.0</td>\n",
       "      <td>0.0</td>\n",
       "      <td>0.0</td>\n",
       "      <td>0.0</td>\n",
       "      <td>0.0</td>\n",
       "      <td>...</td>\n",
       "      <td>0.0</td>\n",
       "      <td>0.0</td>\n",
       "      <td>0.0</td>\n",
       "      <td>0.0</td>\n",
       "      <td>0.0</td>\n",
       "      <td>0.0</td>\n",
       "      <td>0.000000</td>\n",
       "      <td>0.000000</td>\n",
       "      <td>0.0</td>\n",
       "      <td>0.0</td>\n",
       "    </tr>\n",
       "  </tbody>\n",
       "</table>\n",
       "<p>5 rows × 1000 columns</p>\n",
       "</div>"
      ],
      "text/plain": [
       "    10  106  108   11  110  111  112  113  114  115  ...  worth  worthy  \\\n",
       "0  0.0  0.0  0.0  0.0  0.0  0.0  0.0  0.0  0.0  0.0  ...    0.0     0.0   \n",
       "1  0.0  0.0  0.0  0.0  0.0  0.0  0.0  0.0  0.0  0.0  ...    0.0     0.0   \n",
       "2  0.0  0.0  0.0  0.0  0.0  0.0  0.0  0.0  0.0  0.0  ...    0.0     0.0   \n",
       "3  0.0  0.0  0.0  0.0  0.0  0.0  0.0  0.0  0.0  0.0  ...    0.0     0.0   \n",
       "4  0.0  0.0  0.0  0.0  0.0  0.0  0.0  0.0  0.0  0.0  ...    0.0     0.0   \n",
       "\n",
       "   writing  written  wrong  year     years       yes  young  youth  \n",
       "0      0.0      0.0    0.0   0.0  0.383527  0.000000    0.0    0.0  \n",
       "1      0.0      0.0    0.0   0.0  0.000000  0.000000    0.0    0.0  \n",
       "2      0.0      0.0    0.0   0.0  0.000000  0.000000    0.0    0.0  \n",
       "3      0.0      0.0    0.0   0.0  0.000000  0.371136    0.0    0.0  \n",
       "4      0.0      0.0    0.0   0.0  0.000000  0.000000    0.0    0.0  \n",
       "\n",
       "[5 rows x 1000 columns]"
      ]
     },
     "execution_count": 11,
     "metadata": {},
     "output_type": "execute_result"
    }
   ],
   "source": [
    "X_tf_df = pd.DataFrame(X_tf.toarray(), columns = tfvect.get_feature_names())\n",
    "X_tf_df.head()"
   ]
  },
  {
   "cell_type": "code",
   "execution_count": 12,
   "metadata": {},
   "outputs": [],
   "source": [
    "y = reviews.category\n",
    "Xtf_train, Xtf_test, ytf_train, ytf_test = train_test_split(X_tf_df, y, test_size = 0.2, random_state = 7)"
   ]
  },
  {
   "cell_type": "code",
   "execution_count": 13,
   "metadata": {},
   "outputs": [],
   "source": [
    "tf_lr = LogisticRegression(multi_class = 'ovr', solver  = 'lbfgs', max_iter = 1000).fit(Xtf_train, ytf_train)\n",
    "ytf_predict = tf_lr.predict(Xtf_test)"
   ]
  },
  {
   "cell_type": "code",
   "execution_count": 14,
   "metadata": {},
   "outputs": [
    {
     "name": "stdout",
     "output_type": "stream",
     "text": [
      "Accuracy on train set:  0.8417940876656473\n",
      "Accuracy on test set:  0.8198859005704972\n",
      "Confusion matrix: \n",
      " [[0.         0.         0.00244499]\n",
      " [0.         0.00488998 0.17685412]\n",
      " [0.         0.000815   0.81499593]]\n"
     ]
    }
   ],
   "source": [
    "print('Accuracy on train set: ', tf_lr.score(Xtf_train, ytf_train))\n",
    "print('Accuracy on test set: ', tf_lr.score(Xtf_test, ytf_test))\n",
    "print('Confusion matrix: \\n' , confusion_matrix(ytf_test, ytf_predict)/len(ytf_test)) #looks like tfidf gives us a better fit out of the box"
   ]
  },
  {
   "cell_type": "code",
   "execution_count": 15,
   "metadata": {},
   "outputs": [
    {
     "name": "stdout",
     "output_type": "stream",
     "text": [
      "[[0.81499593 0.000815   0.        ]\n",
      " [0.17685412 0.00488998 0.        ]\n",
      " [0.00244499 0.         0.        ]]\n"
     ]
    },
    {
     "data": {
      "image/png": "[encoded data removed]",
      "text/plain": [
       "<Figure size 432x288 with 2 Axes>"
      ]
     },
     "metadata": {
      "needs_background": "light"
     },
     "output_type": "display_data"
    }
   ],
   "source": [
    "labels = ['positive','neutral','negative']\n",
    "cm = confusion_matrix(ytf_test, ytf_predict, labels)/len(ytf_test)\n",
    "print(cm)\n",
    "fig = plt.figure()\n",
    "ax = fig.add_subplot(111)\n",
    "cax = ax.matshow(cm)\n",
    "plt.title('Confusion Matrix of the Classifier')\n",
    "fig.colorbar(cax)\n",
    "ax.set_xticklabels([''] + labels)\n",
    "ax.set_yticklabels([''] + labels)\n",
    "plt.xlabel('Predicted')\n",
    "plt.ylabel('True')\n",
    "plt.show()"
   ]
  },
  {
   "cell_type": "code",
   "execution_count": 16,
   "metadata": {},
   "outputs": [],
   "source": []
  },
  {
   "cell_type": "code",
   "execution_count": 27,
   "metadata": {},
   "outputs": [],
   "source": [
    "C = [10 ** i for i in range (-4,4)] #LogisticRegression uses l2 regularization by default, let's explore hyperparameters\n",
    "_test_scores = []\n",
    "for c in C:\n",
    "    _tf_lr = LogisticRegression(C = c, multi_class = 'ovr', solver  = 'lbfgs', max_iter = 1000).fit(Xtf_train, ytf_train)\n",
    "    _test_scores.append(_tf_lr.score(Xtf_test, ytf_test))"
   ]
  },
  {
   "cell_type": "code",
   "execution_count": 28,
   "metadata": {},
   "outputs": [
    {
     "data": {
      "image/png": "[encoded data removed]",
      "text/plain": [
       "<Figure size 432x288 with 1 Axes>"
      ]
     },
     "metadata": {
      "needs_background": "light"
     },
     "output_type": "display_data"
    }
   ],
   "source": [
    "plt.plot(C, _test_scores)\n",
    "plt.xscale('log')\n",
    "plt.show() #looks like C~1 is optimal, can optimize later"
   ]
  },
  {
   "cell_type": "markdown",
   "metadata": {},
   "source": [
    "next steps: dataset is skewed look at probability of classes and why we aren't predicting negative reviews accurately, experiment with adding more stop words, optimize number of features, score individual words on sentiment and input those as features, use cross-validation, use more data"
   ]
  },
  {
   "cell_type": "code",
   "execution_count": 19,
   "metadata": {},
   "outputs": [
    {
     "data": {
      "text/html": [
       "<div>\n",
       "<style scoped>\n",
       "    .dataframe tbody tr th:only-of-type {\n",
       "        vertical-align: middle;\n",
       "    }\n",
       "\n",
       "    .dataframe tbody tr th {\n",
       "        vertical-align: top;\n",
       "    }\n",
       "\n",
       "    .dataframe thead th {\n",
       "        text-align: right;\n",
       "    }\n",
       "</style>\n",
       "<table border=\"1\" class=\"dataframe\">\n",
       "  <thead>\n",
       "    <tr style=\"text-align: right;\">\n",
       "      <th></th>\n",
       "      <th>artist</th>\n",
       "      <th>album</th>\n",
       "      <th>reviewer</th>\n",
       "      <th>score</th>\n",
       "      <th>review</th>\n",
       "    </tr>\n",
       "    <tr>\n",
       "      <th>category</th>\n",
       "      <th></th>\n",
       "      <th></th>\n",
       "      <th></th>\n",
       "      <th></th>\n",
       "      <th></th>\n",
       "    </tr>\n",
       "  </thead>\n",
       "  <tbody>\n",
       "    <tr>\n",
       "      <td>negative</td>\n",
       "      <td>38</td>\n",
       "      <td>38</td>\n",
       "      <td>38</td>\n",
       "      <td>38</td>\n",
       "      <td>38</td>\n",
       "    </tr>\n",
       "    <tr>\n",
       "      <td>neutral</td>\n",
       "      <td>989</td>\n",
       "      <td>989</td>\n",
       "      <td>989</td>\n",
       "      <td>989</td>\n",
       "      <td>989</td>\n",
       "    </tr>\n",
       "    <tr>\n",
       "      <td>positive</td>\n",
       "      <td>5105</td>\n",
       "      <td>5105</td>\n",
       "      <td>5105</td>\n",
       "      <td>5105</td>\n",
       "      <td>5105</td>\n",
       "    </tr>\n",
       "  </tbody>\n",
       "</table>\n",
       "</div>"
      ],
      "text/plain": [
       "          artist  album  reviewer  score  review\n",
       "category                                        \n",
       "negative      38     38        38     38      38\n",
       "neutral      989    989       989    989     989\n",
       "positive    5105   5105      5105   5105    5105"
      ]
     },
     "execution_count": 19,
     "metadata": {},
     "output_type": "execute_result"
    }
   ],
   "source": [
    "reviews.groupby('category').count() #definitely not enough negative reviews here to predict accurately, we might try looking at user reviews instead"
   ]
  },
  {
   "cell_type": "markdown",
   "metadata": {},
   "source": [
    "There are not enough reviews here to accurately predict the negative review class. We may want to try user reviews as they may be more candid don't have a professional interest in their rating or tone of their review. In the meantime let's try lumping negative and neutral together and predicting a binary class."
   ]
  },
  {
   "cell_type": "code",
   "execution_count": 20,
   "metadata": {},
   "outputs": [],
   "source": [
    "reviews['binary_category'] = ['positive' if s> 60 else 'neutral-negative' for s in reviews.score]"
   ]
  },
  {
   "cell_type": "code",
   "execution_count": 21,
   "metadata": {},
   "outputs": [],
   "source": [
    "tfvect_bc = TfidfVectorizer(max_features = 1000, stop_words = ENGLISH_STOP_WORDS)\n",
    "tfvect_bc.fit(reviews.review)\n",
    "X_tf_bc = tfvect_bc.transform(reviews.review)\n",
    "X_tf_df_bc = pd.DataFrame(X_tf_bc.toarray(), columns = tfvect_bc.get_feature_names())\n",
    "y_bc = reviews.binary_category\n",
    "Xtfbc_train, Xtfbc_test, ytfbc_train, ytfbc_test = train_test_split(X_tf_df_bc, y_bc, test_size = 0.2, random_state = 7)"
   ]
  },
  {
   "cell_type": "code",
   "execution_count": 22,
   "metadata": {},
   "outputs": [],
   "source": [
    "tf_lr_bc = LogisticRegression(solver = 'lbfgs', max_iter = 1000).fit(Xtfbc_train, ytfbc_train)\n",
    "ytfbc_predict = tf_lr_bc.predict(Xtfbc_test)"
   ]
  },
  {
   "cell_type": "code",
   "execution_count": 23,
   "metadata": {},
   "outputs": [
    {
     "name": "stdout",
     "output_type": "stream",
     "text": [
      "Accuracy on train set:  0.8432212028542304\n",
      "Accuracy on test set:  0.8190709046454768\n",
      "Confusion matrix: \n",
      " [[0.00570497 0.17848411]\n",
      " [0.00244499 0.81336593]]\n"
     ]
    }
   ],
   "source": [
    "print('Accuracy on train set: ', tf_lr_bc.score(Xtfbc_train, ytfbc_train))\n",
    "print('Accuracy on test set: ', tf_lr_bc.score(Xtfbc_test, ytfbc_test))\n",
    "print('Confusion matrix: \\n' , confusion_matrix(ytfbc_test, ytfbc_predict)/len(ytfbc_test)) #looks like tfidf gives us a better fit out of the box"
   ]
  },
  {
   "cell_type": "code",
   "execution_count": 24,
   "metadata": {},
   "outputs": [
    {
     "name": "stdout",
     "output_type": "stream",
     "text": [
      "[[0.81336593 0.00244499]\n",
      " [0.17848411 0.00570497]]\n"
     ]
    },
    {
     "data": {
      "image/png": "[encoded data removed]",
      "text/plain": [
       "<Figure size 432x288 with 2 Axes>"
      ]
     },
     "metadata": {
      "needs_background": "light"
     },
     "output_type": "display_data"
    }
   ],
   "source": [
    "labels = ['positive','neutral-negative']\n",
    "cm = confusion_matrix(ytfbc_test, ytfbc_predict, labels)/len(ytfbc_test)\n",
    "print(cm)\n",
    "fig = plt.figure()\n",
    "ax = fig.add_subplot(111)\n",
    "cax = ax.matshow(cm)\n",
    "plt.title('Confusion Matrix of the Classifier')\n",
    "fig.colorbar(cax)\n",
    "ax.set_xticklabels([''] + labels)\n",
    "ax.set_yticklabels([''] + labels)\n",
    "plt.xlabel('Predicted')\n",
    "plt.ylabel('True')\n",
    "plt.show()"
   ]
  },
  {
   "cell_type": "markdown",
   "metadata": {},
   "source": [
    "Looks like we are just predicting everything as positive, maybe due to the skew of the data set?"
   ]
  },
  {
   "cell_type": "code",
   "execution_count": 33,
   "metadata": {
    "scrolled": true
   },
   "outputs": [
    {
     "data": {
      "image/png": "[encoded data removed]",
      "text/plain": [
       "<Figure size 432x288 with 1 Axes>"
      ]
     },
     "metadata": {
      "needs_background": "light"
     },
     "output_type": "display_data"
    }
   ],
   "source": [
    "#let's try l1 regularization with the hypothesis it might help negative reviews stand out more in our small dataset\n",
    "_test_scores = []\n",
    "for c in C:\n",
    "    _tf_lr_bc = LogisticRegression(penalty = 'l1', solver='liblinear', C = c).fit(Xtfbc_train, ytfbc_train)\n",
    "    _test_scores.append(_tf_lr_bc.score(Xtfbc_test, ytfbc_test))\n",
    "plt.plot(C, _test_scores)\n",
    "plt.xscale('log')\n",
    "plt.show()"
   ]
  },
  {
   "cell_type": "code",
   "execution_count": 47,
   "metadata": {},
   "outputs": [
    {
     "data": {
      "image/png": "[encoded data removed]",
      "text/plain": [
       "<Figure size 432x288 with 1 Axes>"
      ]
     },
     "metadata": {
      "needs_background": "light"
     },
     "output_type": "display_data"
    }
   ],
   "source": [
    "_test_scores = []\n",
    "C = [10**(0.25*i) for i in range (-12,3)]\n",
    "for c in C:\n",
    "    _tf_lr_bc = LogisticRegression(penalty = 'l1', solver='liblinear', C = c).fit(Xtfbc_train, ytfbc_train)\n",
    "    _test_scores.append(_tf_lr_bc.score(Xtfbc_test, ytfbc_test))\n",
    "plt.plot(C, _test_scores)\n",
    "plt.xscale('log')\n",
    "plt.show()"
   ]
  },
  {
   "cell_type": "code",
   "execution_count": 49,
   "metadata": {},
   "outputs": [
    {
     "name": "stdout",
     "output_type": "stream",
     "text": [
      "[[0.599837   0.21597392]\n",
      " [0.08801956 0.09616952]]\n"
     ]
    },
    {
     "data": {
      "image/png": "[encoded data removed]",
      "text/plain": [
       "<Figure size 432x288 with 2 Axes>"
      ]
     },
     "metadata": {
      "needs_background": "light"
     },
     "output_type": "display_data"
    }
   ],
   "source": [
    "tf_lr_bc = LogisticRegression(penalty = 'l1', class_weight = 'balanced', solver='liblinear', C = 10**0.5).fit(Xtfbc_train, ytfbc_train)\n",
    "ytfbc_predict = tf_lr_bc.predict(Xtfbc_test)\n",
    "labels = ['positive','neutral-negative']\n",
    "cm = confusion_matrix(ytfbc_test, ytfbc_predict, labels)/len(ytfbc_test)\n",
    "print(cm)\n",
    "fig = plt.figure()\n",
    "ax = fig.add_subplot(111)\n",
    "cax = ax.matshow(cm)\n",
    "plt.title('Confusion Matrix of the Classifier')\n",
    "fig.colorbar(cax)\n",
    "ax.set_xticklabels([''] + labels)\n",
    "ax.set_yticklabels([''] + labels)\n",
    "plt.xlabel('Predicted')\n",
    "plt.ylabel('True')\n",
    "plt.show()"
   ]
  },
  {
   "cell_type": "markdown",
   "metadata": {},
   "source": [
    "Looks like we improved our true negative rate at the cost of our true positive rate. \n",
    "Next steps: Let's figure out how to plot ROC curves and just scrape more data."
   ]
  }
 ],
 "metadata": {
  "kernelspec": {
   "display_name": "Python 3",
   "language": "python",
   "name": "python3"
  },
  "language_info": {
   "codemirror_mode": {
    "name": "ipython",
    "version": 3
   },
   "file_extension": ".py",
   "mimetype": "text/x-python",
   "name": "python",
   "nbconvert_exporter": "python",
   "pygments_lexer": "ipython3",
   "version": "3.7.4"
  }
 },
 "nbformat": 4,
 "nbformat_minor": 4
}
